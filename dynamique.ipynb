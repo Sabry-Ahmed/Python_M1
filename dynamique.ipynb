{
  "nbformat": 4,
  "nbformat_minor": 0,
  "metadata": {
    "colab": {
      "provenance": [],
      "authorship_tag": "ABX9TyNSYyVvSQ7BPhihVy3UWWGv",
      "include_colab_link": true
    },
    "kernelspec": {
      "name": "python3",
      "display_name": "Python 3"
    },
    "language_info": {
      "name": "python"
    }
  },
  "cells": [
    {
      "cell_type": "markdown",
      "metadata": {
        "id": "view-in-github",
        "colab_type": "text"
      },
      "source": [
        "<a href=\"https://colab.research.google.com/github/Sabry-Ahmed/Python_M1/blob/main/dynamique.ipynb\" target=\"_parent\"><img src=\"https://colab.research.google.com/assets/colab-badge.svg\" alt=\"Open In Colab\"/></a>"
      ]
    },
    {
      "cell_type": "code",
      "execution_count": 1,
      "metadata": {
        "colab": {
          "base_uri": "https://localhost:8080/"
        },
        "id": "h_nvS4yI1cKe",
        "outputId": "dba01e5a-2e0a-426f-ffaa-60638ca2ee10"
      },
      "outputs": [
        {
          "output_type": "stream",
          "name": "stdout",
          "text": [
            "[7, 10, 19, 19, 28, 33]\n"
          ]
        }
      ],
      "source": [
        "lst = [7,10,12,7,9,14]\n",
        "Slst = []\n",
        "AncienNum = 0\n",
        "for i,y in enumerate(lst):\n",
        "    if i == 0 or i == 1:\n",
        "        Slst.append(y)\n",
        "        AncienNum = y\n",
        "    else:\n",
        "        if y+Slst[i-2] > AncienNum:\n",
        "            Slst.append(y+Slst[i-2])\n",
        "            AncienNum = y+Slst[i-2]\n",
        "        else:\n",
        "            Slst.append(AncienNum)\n",
        "\n",
        "print(Slst)\n",
        "    "
      ]
    },
    {
      "cell_type": "code",
      "source": [],
      "metadata": {
        "id": "4hn2zh1e6KVe"
      },
      "execution_count": null,
      "outputs": []
    },
    {
      "cell_type": "code",
      "source": [],
      "metadata": {
        "id": "CWLjLc_Y7AZ-"
      },
      "execution_count": null,
      "outputs": []
    }
  ]
}