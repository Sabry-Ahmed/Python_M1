{
  "cells": [
    {
      "cell_type": "markdown",
      "metadata": {
        "id": "view-in-github",
        "colab_type": "text"
      },
      "source": [
        "<a href=\"https://colab.research.google.com/github/Sabry-Ahmed/Python_M1/blob/main/FinalCodeProject.ipynb\" target=\"_parent\"><img src=\"https://colab.research.google.com/assets/colab-badge.svg\" alt=\"Open In Colab\"/></a>"
      ]
    },
    {
      "cell_type": "markdown",
      "source": [
        "Aujourd'hui, les paris sportifs font partie intégrante de la vie de nombreux passionnés de sport. La Coupe du monde de football est l'événement sportif le plus regardé. Les parieurs seraient prêts à tout donner pour pouvoir connaître le résultat d'un match avant sa fin. Mais alors est-ce possible ?"
      ],
      "metadata": {
        "id": "Kg3KuSvN2B8T"
      },
      "id": "Kg3KuSvN2B8T"
    },
    {
      "cell_type": "code",
      "execution_count": 4,
      "id": "b10ce203-38c7-411d-9c04-69338149c3eb",
      "metadata": {
        "colab": {
          "base_uri": "https://localhost:8080/"
        },
        "id": "b10ce203-38c7-411d-9c04-69338149c3eb",
        "outputId": "bdcc58a6-a72c-4358-f5f2-fec82c14b5d8"
      },
      "outputs": [
        {
          "output_type": "stream",
          "name": "stdout",
          "text": [
            "Drive already mounted at /content/drive; to attempt to forcibly remount, call drive.mount(\"/content/drive\", force_remount=True).\n"
          ]
        }
      ],
      "source": [
        "from google.colab import drive\n",
        "import numpy as np \n",
        "import pandas as pd \n",
        "import matplotlib.pyplot as plt\n",
        "import seaborn as sns\n",
        "drive.mount('/content/drive')\n",
        "data = pd.read_csv('/content/drive/MyDrive/M1/international_matches.csv')\n",
        "\n"
      ]
    },
    {
      "cell_type": "markdown",
      "source": [
        "Les colonnes du dataset"
      ],
      "metadata": {
        "id": "KX9R1U76w1uj"
      },
      "id": "KX9R1U76w1uj"
    },
    {
      "cell_type": "code",
      "execution_count": 5,
      "id": "aa819091-ae44-4641-93ee-a43f92361e9d",
      "metadata": {
        "colab": {
          "base_uri": "https://localhost:8080/"
        },
        "id": "aa819091-ae44-4641-93ee-a43f92361e9d",
        "outputId": "772af42e-0231-4962-edd4-a7b2b3884451"
      },
      "outputs": [
        {
          "output_type": "execute_result",
          "data": {
            "text/plain": [
              "Index(['date', 'home_team', 'away_team', 'home_team_continent',\n",
              "       'away_team_continent', 'home_team_fifa_rank', 'away_team_fifa_rank',\n",
              "       'home_team_total_fifa_points', 'away_team_total_fifa_points',\n",
              "       'home_team_score', 'away_team_score', 'tournament', 'city', 'country',\n",
              "       'neutral_location', 'shoot_out', 'home_team_result',\n",
              "       'home_team_goalkeeper_score', 'away_team_goalkeeper_score',\n",
              "       'home_team_mean_defense_score', 'home_team_mean_offense_score',\n",
              "       'home_team_mean_midfield_score', 'away_team_mean_defense_score',\n",
              "       'away_team_mean_offense_score', 'away_team_mean_midfield_score'],\n",
              "      dtype='object')"
            ]
          },
          "metadata": {},
          "execution_count": 5
        }
      ],
      "source": [
        "data.columns"
      ]
    },
    {
      "cell_type": "markdown",
      "source": [
        "On crée une liste avec les 32 équipes participant à la Coupe du monde"
      ],
      "metadata": {
        "id": "fghLPYcQxK-M"
      },
      "id": "fghLPYcQxK-M"
    },
    {
      "cell_type": "code",
      "execution_count": 6,
      "id": "8be8d784-5e08-4ce6-8a97-2c939674d5a1",
      "metadata": {
        "id": "8be8d784-5e08-4ce6-8a97-2c939674d5a1"
      },
      "outputs": [],
      "source": [
        "world_cup_teams = [\n",
        "    'Qatar', 'Germany', 'Denmark', 'Brazil', 'France', 'Belgium', 'Croatia', 'Spain', \n",
        "    'Serbia', 'England', 'Switzerland', 'Netherlands', 'Argentina', 'IR Iran', 'Korea Republic', \n",
        "    'Japan', 'Saudi Arabia', 'Ecuador', 'Uruguay', 'Canada', 'Ghana', 'Senegal', 'Portugal', 'Poland', \n",
        "    'Tunisia', 'Morocco', 'Cameroon', 'USA', 'Mexico', 'Wales', 'Australia', 'Costa Rica'\n",
        "]"
      ]
    },
    {
      "cell_type": "markdown",
      "source": [
        "On crée une nouvelle dataframe avec uniquement les 32 équipes et \n",
        "après le dernier match de la coupe du monde"
      ],
      "metadata": {
        "id": "8eAsiRHuxfOz"
      },
      "id": "8eAsiRHuxfOz"
    },
    {
      "cell_type": "code",
      "execution_count": 7,
      "id": "9f493044-aa5e-4947-a330-e02d1fe5d574",
      "metadata": {
        "colab": {
          "base_uri": "https://localhost:8080/"
        },
        "id": "9f493044-aa5e-4947-a330-e02d1fe5d574",
        "outputId": "4fd9a62a-b792-438a-b284-418c57d30109"
      },
      "outputs": [
        {
          "output_type": "stream",
          "name": "stderr",
          "text": [
            "/usr/local/lib/python3.7/dist-packages/ipykernel_launcher.py:2: UserWarning: Boolean Series key will be reindexed to match DataFrame index.\n",
            "  \n"
          ]
        },
        {
          "output_type": "execute_result",
          "data": {
            "text/plain": [
              "(1236, 25)"
            ]
          },
          "metadata": {},
          "execution_count": 7
        }
      ],
      "source": [
        "data_wc = data[(data.home_team.isin(world_cup_teams)) | (data.away_team.isin(world_cup_teams))].copy()\n",
        "data_wc = data_wc[data.date >= '2018-07-15']\n",
        "data_wc.shape"
      ]
    },
    {
      "cell_type": "code",
      "execution_count": 8,
      "id": "a0e787db-72d0-435e-a098-33a502b1aa8e",
      "metadata": {
        "colab": {
          "base_uri": "https://localhost:8080/",
          "height": 557
        },
        "id": "a0e787db-72d0-435e-a098-33a502b1aa8e",
        "outputId": "9e184d07-4287-48e2-d474-3ee5f30f15e3"
      },
      "outputs": [
        {
          "output_type": "execute_result",
          "data": {
            "text/plain": [
              "<matplotlib.axes._subplots.AxesSubplot at 0x7f31bb360d90>"
            ]
          },
          "metadata": {},
          "execution_count": 8
        },
        {
          "output_type": "display_data",
          "data": {
            "text/plain": [
              "<Figure size 720x432 with 2 Axes>"
            ],
            "image/png": "[encoded data removed]"
          },
          "metadata": {
            "needs_background": "light"
          }
        }
      ],
      "source": [
        "plt.figure(figsize=(10,6))\n",
        "sns.heatmap(\n",
        "    data_wc.isnull(),\n",
        "    cmap=\"YlGnBu\",\n",
        "    cbar_kws={'label': 'Missing Data'}\n",
        ")"
      ]
    },
    {
      "cell_type": "code",
      "execution_count": 9,
      "id": "de42bcd9-370a-484b-b66e-f1b8d1ae69c9",
      "metadata": {
        "colab": {
          "base_uri": "https://localhost:8080/"
        },
        "id": "de42bcd9-370a-484b-b66e-f1b8d1ae69c9",
        "outputId": "6d40db53-a7e4-483c-ecb8-f975d8782afe"
      },
      "outputs": [
        {
          "output_type": "execute_result",
          "data": {
            "text/plain": [
              "date                                            0.0%\n",
              "home_team                                       0.0%\n",
              "away_team                                       0.0%\n",
              "home_team_continent                             0.0%\n",
              "away_team_continent                             0.0%\n",
              "home_team_fifa_rank                             0.0%\n",
              "away_team_fifa_rank                             0.0%\n",
              "home_team_total_fifa_points                     0.0%\n",
              "away_team_total_fifa_points                     0.0%\n",
              "home_team_score                                 0.0%\n",
              "away_team_score                                 0.0%\n",
              "tournament                                      0.0%\n",
              "city                                            0.0%\n",
              "country                                         0.0%\n",
              "neutral_location                                0.0%\n",
              "shoot_out                                       0.0%\n",
              "home_team_result                                0.0%\n",
              "home_team_goalkeeper_score       15.291262135922329%\n",
              "away_team_goalkeeper_score        19.57928802588997%\n",
              "home_team_mean_defense_score     16.019417475728158%\n",
              "home_team_mean_offense_score     15.048543689320388%\n",
              "home_team_mean_midfield_score    14.401294498381878%\n",
              "away_team_mean_defense_score     20.307443365695793%\n",
              "away_team_mean_offense_score     19.336569579288028%\n",
              "away_team_mean_midfield_score     18.36569579288026%\n",
              "dtype: object"
            ]
          },
          "metadata": {},
          "execution_count": 9
        }
      ],
      "source": [
        "(data_wc.isnull().mean() * 100).astype(str) + '%'"
      ]
    },
    {
      "cell_type": "code",
      "execution_count": 10,
      "id": "87eb5143-5af6-4b33-becd-288c6f5c174c",
      "metadata": {
        "colab": {
          "base_uri": "https://localhost:8080/",
          "height": 329
        },
        "id": "87eb5143-5af6-4b33-becd-288c6f5c174c",
        "outputId": "f34fd945-4663-4c7d-a670-2f3e13ee0c0a"
      },
      "outputs": [
        {
          "output_type": "display_data",
          "data": {
            "text/plain": [
              "<Figure size 432x288 with 1 Axes>"
            ],
            "image/png": "[encoded data removed]"
          },
          "metadata": {
            "needs_background": "light"
          }
        }
      ],
      "source": [
        "# count number of items in one column : https://pandas.pydata.org/docs/reference/api/pandas.Series.value_counts.html\n",
        "home_cont = data_wc[data_wc.home_team.isin(world_cup_teams)].home_team_continent.value_counts() \n",
        "away_cont = data_wc[data_wc.away_team.isin(world_cup_teams)].away_team_continent.value_counts()\n",
        "home_cont.add(away_cont).plot(kind='bar');"
      ]
    },
    {
      "cell_type": "markdown",
      "source": [],
      "metadata": {
        "id": "1SSicoCwy1t-"
      },
      "id": "1SSicoCwy1t-"
    },
    {
      "cell_type": "code",
      "execution_count": 27,
      "id": "50846b3e-f288-4901-947b-15a466a4d29a",
      "metadata": {
        "id": "50846b3e-f288-4901-947b-15a466a4d29a"
      },
      "outputs": [],
      "source": [
        "fifa_rank = data_wc[['date','home_team','away_team','home_team_fifa_rank', 'away_team_fifa_rank']]\n",
        "home = fifa_rank[['date','home_team','home_team_fifa_rank']].rename(columns={\"home_team\":\"team\",\"home_team_fifa_rank\":\"rank\"})\n",
        "away = fifa_rank[['date','away_team','away_team_fifa_rank']].rename(columns={\"away_team\":\"team\",\"away_team_fifa_rank\":\"rank\"})\n",
        "fifa_rank = pd.concat([home,away])\n",
        "fifa_rank= fifa_rank[fifa_rank.team.isin(world_cup_teams)]"
      ]
    },
    {
      "cell_type": "code",
      "execution_count": 39,
      "id": "01a3594e-9e84-425a-8f2e-e7403650986c",
      "metadata": {
        "colab": {
          "base_uri": "https://localhost:8080/",
          "height": 1000
        },
        "id": "01a3594e-9e84-425a-8f2e-e7403650986c",
        "outputId": "88f229ed-cbff-4de5-ce5a-cab0b225a599"
      },
      "outputs": [
        {
          "output_type": "execute_result",
          "data": {
            "text/plain": [
              "<seaborn.axisgrid.FacetGrid at 0x7f31b4fbdc90>"
            ]
          },
          "metadata": {},
          "execution_count": 39
        },
        {
          "output_type": "display_data",
          "data": {
            "text/plain": [
              "<Figure size 1440x1440 with 1 Axes>"
            ],
            "image/png": "[encoded data removed]"
          },
          "metadata": {
            "needs_background": "light"
          }
        }
      ],
      "source": [
        "best_teams = fifa_rank.sort_values('date', ascending=False).groupby('team').first().sort_values('rank')\n",
        "best_teams['rank'].reset_index().head(n=10)\n",
        "best_teams\n",
        "sns.relplot(x='team', y=\"rank\", data=best_teams, height=20)"
      ]
    },
    {
      "cell_type": "markdown",
      "source": [],
      "metadata": {
        "id": "lgzs0Mn01aYQ"
      },
      "id": "lgzs0Mn01aYQ"
    },
    {
      "cell_type": "code",
      "execution_count": 22,
      "id": "963ea9c3-2ea5-4041-bfa9-74f0740ec031",
      "metadata": {
        "colab": {
          "base_uri": "https://localhost:8080/",
          "height": 424
        },
        "id": "963ea9c3-2ea5-4041-bfa9-74f0740ec031",
        "outputId": "4603ee43-b72d-48e7-b2e0-7afc363012d8"
      },
      "outputs": [
        {
          "output_type": "execute_result",
          "data": {
            "text/plain": [
              "            home_team   away_team home_team_result     team_winner\n",
              "20449          France     Croatia              Win          France\n",
              "20503  Korea Republic  Costa Rica              Win  Korea Republic\n",
              "20504          Mexico     Uruguay             Lose         Uruguay\n",
              "20508             USA      Brazil             Lose          Brazil\n",
              "20514         England       Spain             Lose           Spain\n",
              "...               ...         ...              ...             ...\n",
              "23867     Switzerland    Portugal              Win     Switzerland\n",
              "23885          France     Croatia             Lose         Croatia\n",
              "23908     Netherlands       Wales              Win     Netherlands\n",
              "23909          Poland     Belgium             Lose         Belgium\n",
              "23919           Japan     Tunisia             Lose         Tunisia\n",
              "\n",
              "[186 rows x 4 columns]"
            ],
            "text/html": [
              "\n",
              "  <div id=\"df-52d19594-1cc3-4ace-90f1-383b20cd9270\">\n",
              "    <div class=\"colab-df-container\">\n",
              "      <div>\n",
              "<style scoped>\n",
              "    .dataframe tbody tr th:only-of-type {\n",
              "        vertical-align: middle;\n",
              "    }\n",
              "\n",
              "    .dataframe tbody tr th {\n",
              "        vertical-align: top;\n",
              "    }\n",
              "\n",
              "    .dataframe thead th {\n",
              "        text-align: right;\n",
              "    }\n",
              "</style>\n",
              "<table border=\"1\" class=\"dataframe\">\n",
              "  <thead>\n",
              "    <tr style=\"text-align: right;\">\n",
              "      <th></th>\n",
              "      <th>home_team</th>\n",
              "      <th>away_team</th>\n",
              "      <th>home_team_result</th>\n",
              "      <th>team_winner</th>\n",
              "    </tr>\n",
              "  </thead>\n",
              "  <tbody>\n",
              "    <tr>\n",
              "      <th>20449</th>\n",
              "      <td>France</td>\n",
              "      <td>Croatia</td>\n",
              "      <td>Win</td>\n",
              "      <td>France</td>\n",
              "    </tr>\n",
              "    <tr>\n",
              "      <th>20503</th>\n",
              "      <td>Korea Republic</td>\n",
              "      <td>Costa Rica</td>\n",
              "      <td>Win</td>\n",
              "      <td>Korea Republic</td>\n",
              "    </tr>\n",
              "    <tr>\n",
              "      <th>20504</th>\n",
              "      <td>Mexico</td>\n",
              "      <td>Uruguay</td>\n",
              "      <td>Lose</td>\n",
              "      <td>Uruguay</td>\n",
              "    </tr>\n",
              "    <tr>\n",
              "      <th>20508</th>\n",
              "      <td>USA</td>\n",
              "      <td>Brazil</td>\n",
              "      <td>Lose</td>\n",
              "      <td>Brazil</td>\n",
              "    </tr>\n",
              "    <tr>\n",
              "      <th>20514</th>\n",
              "      <td>England</td>\n",
              "      <td>Spain</td>\n",
              "      <td>Lose</td>\n",
              "      <td>Spain</td>\n",
              "    </tr>\n",
              "    <tr>\n",
              "      <th>...</th>\n",
              "      <td>...</td>\n",
              "      <td>...</td>\n",
              "      <td>...</td>\n",
              "      <td>...</td>\n",
              "    </tr>\n",
              "    <tr>\n",
              "      <th>23867</th>\n",
              "      <td>Switzerland</td>\n",
              "      <td>Portugal</td>\n",
              "      <td>Win</td>\n",
              "      <td>Switzerland</td>\n",
              "    </tr>\n",
              "    <tr>\n",
              "      <th>23885</th>\n",
              "      <td>France</td>\n",
              "      <td>Croatia</td>\n",
              "      <td>Lose</td>\n",
              "      <td>Croatia</td>\n",
              "    </tr>\n",
              "    <tr>\n",
              "      <th>23908</th>\n",
              "      <td>Netherlands</td>\n",
              "      <td>Wales</td>\n",
              "      <td>Win</td>\n",
              "      <td>Netherlands</td>\n",
              "    </tr>\n",
              "    <tr>\n",
              "      <th>23909</th>\n",
              "      <td>Poland</td>\n",
              "      <td>Belgium</td>\n",
              "      <td>Lose</td>\n",
              "      <td>Belgium</td>\n",
              "    </tr>\n",
              "    <tr>\n",
              "      <th>23919</th>\n",
              "      <td>Japan</td>\n",
              "      <td>Tunisia</td>\n",
              "      <td>Lose</td>\n",
              "      <td>Tunisia</td>\n",
              "    </tr>\n",
              "  </tbody>\n",
              "</table>\n",
              "<p>186 rows × 4 columns</p>\n",
              "</div>\n",
              "      <button class=\"colab-df-convert\" onclick=\"convertToInteractive('df-52d19594-1cc3-4ace-90f1-383b20cd9270')\"\n",
              "              title=\"Convert this dataframe to an interactive table.\"\n",
              "              style=\"display:none;\">\n",
              "        \n",
              "  <svg xmlns=\"http://www.w3.org/2000/svg\" height=\"24px\"viewBox=\"0 0 24 24\"\n",
              "       width=\"24px\">\n",
              "    <path d=\"M0 0h24v24H0V0z\" fill=\"none\"/>\n",
              "    <path d=\"M18.56 5.44l.94 2.06.94-2.06 2.06-.94-2.06-.94-.94-2.06-.94 2.06-2.06.94zm-11 1L8.5 8.5l.94-2.06 2.06-.94-2.06-.94L8.5 2.5l-.94 2.06-2.06.94zm10 10l.94 2.06.94-2.06 2.06-.94-2.06-.94-.94-2.06-.94 2.06-2.06.94z\"/><path d=\"M17.41 7.96l-1.37-1.37c-.4-.4-.92-.59-1.43-.59-.52 0-1.04.2-1.43.59L10.3 9.45l-7.72 7.72c-.78.78-.78 2.05 0 2.83L4 21.41c.39.39.9.59 1.41.59.51 0 1.02-.2 1.41-.59l7.78-7.78 2.81-2.81c.8-.78.8-2.07 0-2.86zM5.41 20L4 18.59l7.72-7.72 1.47 1.35L5.41 20z\"/>\n",
              "  </svg>\n",
              "      </button>\n",
              "      \n",
              "  <style>\n",
              "    .colab-df-container {\n",
              "      display:flex;\n",
              "      flex-wrap:wrap;\n",
              "      gap: 12px;\n",
              "    }\n",
              "\n",
              "    .colab-df-convert {\n",
              "      background-color: #E8F0FE;\n",
              "      border: none;\n",
              "      border-radius: 50%;\n",
              "      cursor: pointer;\n",
              "      display: none;\n",
              "      fill: #1967D2;\n",
              "      height: 32px;\n",
              "      padding: 0 0 0 0;\n",
              "      width: 32px;\n",
              "    }\n",
              "\n",
              "    .colab-df-convert:hover {\n",
              "      background-color: #E2EBFA;\n",
              "      box-shadow: 0px 1px 2px rgba(60, 64, 67, 0.3), 0px 1px 3px 1px rgba(60, 64, 67, 0.15);\n",
              "      fill: #174EA6;\n",
              "    }\n",
              "\n",
              "    [theme=dark] .colab-df-convert {\n",
              "      background-color: #3B4455;\n",
              "      fill: #D2E3FC;\n",
              "    }\n",
              "\n",
              "    [theme=dark] .colab-df-convert:hover {\n",
              "      background-color: #434B5C;\n",
              "      box-shadow: 0px 1px 3px 1px rgba(0, 0, 0, 0.15);\n",
              "      filter: drop-shadow(0px 1px 2px rgba(0, 0, 0, 0.3));\n",
              "      fill: #FFFFFF;\n",
              "    }\n",
              "  </style>\n",
              "\n",
              "      <script>\n",
              "        const buttonEl =\n",
              "          document.querySelector('#df-52d19594-1cc3-4ace-90f1-383b20cd9270 button.colab-df-convert');\n",
              "        buttonEl.style.display =\n",
              "          google.colab.kernel.accessAllowed ? 'block' : 'none';\n",
              "\n",
              "        async function convertToInteractive(key) {\n",
              "          const element = document.querySelector('#df-52d19594-1cc3-4ace-90f1-383b20cd9270');\n",
              "          const dataTable =\n",
              "            await google.colab.kernel.invokeFunction('convertToInteractive',\n",
              "                                                     [key], {});\n",
              "          if (!dataTable) return;\n",
              "\n",
              "          const docLinkHtml = 'Like what you see? Visit the ' +\n",
              "            '<a target=\"_blank\" href=https://colab.research.google.com/notebooks/data_table.ipynb>data table notebook</a>'\n",
              "            + ' to learn more about interactive tables.';\n",
              "          element.innerHTML = '';\n",
              "          dataTable['output_type'] = 'display_data';\n",
              "          await google.colab.output.renderOutput(dataTable, element);\n",
              "          const docLink = document.createElement('div');\n",
              "          docLink.innerHTML = docLinkHtml;\n",
              "          element.appendChild(docLink);\n",
              "        }\n",
              "      </script>\n",
              "    </div>\n",
              "  </div>\n",
              "  "
            ]
          },
          "metadata": {},
          "execution_count": 22
        }
      ],
      "source": [
        "wc_match_only = data_wc[(data_wc.home_team.isin(world_cup_teams)) & (data_wc.away_team.isin(world_cup_teams))]\n",
        "wc_match_only = wc_match_only[wc_match_only.home_team_result != 'Draw']\n",
        "wc_match_only['team_winner'] = np.where(wc_match_only.home_team_result == 'Win', wc_match_only.home_team, wc_match_only.away_team)\n",
        "wc_match_only[['home_team', 'away_team', 'home_team_result', 'team_winner']]"
      ]
    },
    {
      "cell_type": "markdown",
      "source": [
        "Classement des équipes avec le plus de victoires face aux équipes participant à la Coupe du monde"
      ],
      "metadata": {
        "id": "9V0V1vWF1ksJ"
      },
      "id": "9V0V1vWF1ksJ"
    },
    {
      "cell_type": "markdown",
      "source": [],
      "metadata": {
        "id": "gwky_YOX2A7t"
      },
      "id": "gwky_YOX2A7t"
    },
    {
      "cell_type": "code",
      "execution_count": 49,
      "id": "0e9ece74-43a6-47a9-848d-8ea5e43096df",
      "metadata": {
        "colab": {
          "base_uri": "https://localhost:8080/"
        },
        "id": "0e9ece74-43a6-47a9-848d-8ea5e43096df",
        "outputId": "63c0dcf4-dfc7-4432-8af5-41db1ff64481"
      },
      "outputs": [
        {
          "output_type": "execute_result",
          "data": {
            "text/plain": [
              "Argentina      13\n",
              "Brazil         13\n",
              "Mexico         13\n",
              "USA            13\n",
              "England        12\n",
              "Belgium        11\n",
              "France         11\n",
              "Japan          10\n",
              "Netherlands    10\n",
              "Portugal        9\n",
              "Name: team_winner, dtype: int64"
            ]
          },
          "metadata": {},
          "execution_count": 49
        }
      ],
      "source": [
        "Top5 = wc_match_only['team_winner'].value_counts().head(n=10)\n",
        "\n",
        "Top5\n"
      ]
    },
    {
      "cell_type": "code",
      "execution_count": 18,
      "id": "c11598be-8691-4b27-bfc6-64aaa759867a",
      "metadata": {
        "colab": {
          "base_uri": "https://localhost:8080/",
          "height": 284
        },
        "id": "c11598be-8691-4b27-bfc6-64aaa759867a",
        "outputId": "614b4032-6545-4061-9e1e-d597bcfbccfc"
      },
      "outputs": [
        {
          "output_type": "execute_result",
          "data": {
            "text/plain": [
              "<matplotlib.axes._subplots.AxesSubplot at 0x7f31b578ee90>"
            ]
          },
          "metadata": {},
          "execution_count": 18
        },
        {
          "output_type": "display_data",
          "data": {
            "text/plain": [
              "<Figure size 432x288 with 1 Axes>"
            ],
            "image/png": "[encoded data removed]"
          },
          "metadata": {
            "needs_background": "light"
          }
        }
      ],
      "source": [
        "data_wc.boxplot(column=['home_team_fifa_rank', 'home_team_total_fifa_points'])"
      ]
    },
    {
      "cell_type": "code",
      "execution_count": 19,
      "id": "c61860d1-86f2-4fa0-bdaa-a62ee5b049dc",
      "metadata": {
        "colab": {
          "base_uri": "https://localhost:8080/",
          "height": 364
        },
        "id": "c61860d1-86f2-4fa0-bdaa-a62ee5b049dc",
        "outputId": "de57e0c4-cbdd-4db2-ccef-37f952a4f7ce"
      },
      "outputs": [
        {
          "output_type": "execute_result",
          "data": {
            "text/plain": [
              "       home_team_fifa_rank  away_team_fifa_rank  home_team_total_fifa_points  \\\n",
              "count          1236.000000          1236.000000                  1236.000000   \n",
              "mean             40.922330            49.563916                  1482.772654   \n",
              "std              38.993725            42.438314                   176.610899   \n",
              "min               1.000000             1.000000                   782.000000   \n",
              "25%              13.000000            16.000000                  1402.000000   \n",
              "50%              29.000000            38.000000                  1501.000000   \n",
              "75%              56.000000            70.000000                  1607.000000   \n",
              "max             211.000000           210.000000                  2164.000000   \n",
              "\n",
              "       away_team_total_fifa_points  home_team_score  away_team_score  \\\n",
              "count                  1236.000000      1236.000000      1236.000000   \n",
              "mean                   1443.500000         1.669094         1.054207   \n",
              "std                     186.943814         1.703452         1.313082   \n",
              "min                     791.000000         0.000000         0.000000   \n",
              "25%                    1340.000000         0.000000         0.000000   \n",
              "50%                    1463.000000         1.000000         1.000000   \n",
              "75%                    1574.250000         2.000000         2.000000   \n",
              "max                    2036.000000        14.000000        11.000000   \n",
              "\n",
              "       home_team_goalkeeper_score  away_team_goalkeeper_score  \\\n",
              "count                 1047.000000                  994.000000   \n",
              "mean                    78.683859                   77.598592   \n",
              "std                      6.762875                    7.202078   \n",
              "min                     52.000000                   52.000000   \n",
              "25%                     74.000000                   73.000000   \n",
              "50%                     79.000000                   77.000000   \n",
              "75%                     84.000000                   83.000000   \n",
              "max                     91.000000                   91.000000   \n",
              "\n",
              "       home_team_mean_defense_score  home_team_mean_offense_score  \\\n",
              "count                   1038.000000                   1050.000000   \n",
              "mean                      77.516281                     78.451143   \n",
              "std                        5.105626                      6.054204   \n",
              "min                       63.000000                     59.700000   \n",
              "25%                       73.800000                     74.300000   \n",
              "50%                       76.800000                     77.700000   \n",
              "75%                       81.200000                     83.600000   \n",
              "max                       87.800000                     90.300000   \n",
              "\n",
              "       home_team_mean_midfield_score  away_team_mean_defense_score  \\\n",
              "count                    1058.000000                    985.000000   \n",
              "mean                       78.466446                     76.388832   \n",
              "std                         5.384228                      5.330947   \n",
              "min                        58.800000                     60.000000   \n",
              "25%                        75.200000                     72.800000   \n",
              "50%                        78.200000                     76.000000   \n",
              "75%                        83.000000                     79.800000   \n",
              "max                        88.800000                     87.800000   \n",
              "\n",
              "       away_team_mean_offense_score  away_team_mean_midfield_score  \n",
              "count                    997.000000                    1009.000000  \n",
              "mean                      77.193380                      77.363231  \n",
              "std                        6.091557                       5.712073  \n",
              "min                       60.300000                      60.000000  \n",
              "25%                       72.700000                      74.000000  \n",
              "50%                       77.000000                      77.500000  \n",
              "75%                       82.300000                      81.200000  \n",
              "max                       90.300000                      88.800000  "
            ],
            "text/html": [
              "\n",
              "  <div id=\"df-e638bd2f-0cc5-4dc3-afbf-e58cf80cbfb5\">\n",
              "    <div class=\"colab-df-container\">\n",
              "      <div>\n",
              "<style scoped>\n",
              "    .dataframe tbody tr th:only-of-type {\n",
              "        vertical-align: middle;\n",
              "    }\n",
              "\n",
              "    .dataframe tbody tr th {\n",
              "        vertical-align: top;\n",
              "    }\n",
              "\n",
              "    .dataframe thead th {\n",
              "        text-align: right;\n",
              "    }\n",
              "</style>\n",
              "<table border=\"1\" class=\"dataframe\">\n",
              "  <thead>\n",
              "    <tr style=\"text-align: right;\">\n",
              "      <th></th>\n",
              "      <th>home_team_fifa_rank</th>\n",
              "      <th>away_team_fifa_rank</th>\n",
              "      <th>home_team_total_fifa_points</th>\n",
              "      <th>away_team_total_fifa_points</th>\n",
              "      <th>home_team_score</th>\n",
              "      <th>away_team_score</th>\n",
              "      <th>home_team_goalkeeper_score</th>\n",
              "      <th>away_team_goalkeeper_score</th>\n",
              "      <th>home_team_mean_defense_score</th>\n",
              "      <th>home_team_mean_offense_score</th>\n",
              "      <th>home_team_mean_midfield_score</th>\n",
              "      <th>away_team_mean_defense_score</th>\n",
              "      <th>away_team_mean_offense_score</th>\n",
              "      <th>away_team_mean_midfield_score</th>\n",
              "    </tr>\n",
              "  </thead>\n",
              "  <tbody>\n",
              "    <tr>\n",
              "      <th>count</th>\n",
              "      <td>1236.000000</td>\n",
              "      <td>1236.000000</td>\n",
              "      <td>1236.000000</td>\n",
              "      <td>1236.000000</td>\n",
              "      <td>1236.000000</td>\n",
              "      <td>1236.000000</td>\n",
              "      <td>1047.000000</td>\n",
              "      <td>994.000000</td>\n",
              "      <td>1038.000000</td>\n",
              "      <td>1050.000000</td>\n",
              "      <td>1058.000000</td>\n",
              "      <td>985.000000</td>\n",
              "      <td>997.000000</td>\n",
              "      <td>1009.000000</td>\n",
              "    </tr>\n",
              "    <tr>\n",
              "      <th>mean</th>\n",
              "      <td>40.922330</td>\n",
              "      <td>49.563916</td>\n",
              "      <td>1482.772654</td>\n",
              "      <td>1443.500000</td>\n",
              "      <td>1.669094</td>\n",
              "      <td>1.054207</td>\n",
              "      <td>78.683859</td>\n",
              "      <td>77.598592</td>\n",
              "      <td>77.516281</td>\n",
              "      <td>78.451143</td>\n",
              "      <td>78.466446</td>\n",
              "      <td>76.388832</td>\n",
              "      <td>77.193380</td>\n",
              "      <td>77.363231</td>\n",
              "    </tr>\n",
              "    <tr>\n",
              "      <th>std</th>\n",
              "      <td>38.993725</td>\n",
              "      <td>42.438314</td>\n",
              "      <td>176.610899</td>\n",
              "      <td>186.943814</td>\n",
              "      <td>1.703452</td>\n",
              "      <td>1.313082</td>\n",
              "      <td>6.762875</td>\n",
              "      <td>7.202078</td>\n",
              "      <td>5.105626</td>\n",
              "      <td>6.054204</td>\n",
              "      <td>5.384228</td>\n",
              "      <td>5.330947</td>\n",
              "      <td>6.091557</td>\n",
              "      <td>5.712073</td>\n",
              "    </tr>\n",
              "    <tr>\n",
              "      <th>min</th>\n",
              "      <td>1.000000</td>\n",
              "      <td>1.000000</td>\n",
              "      <td>782.000000</td>\n",
              "      <td>791.000000</td>\n",
              "      <td>0.000000</td>\n",
              "      <td>0.000000</td>\n",
              "      <td>52.000000</td>\n",
              "      <td>52.000000</td>\n",
              "      <td>63.000000</td>\n",
              "      <td>59.700000</td>\n",
              "      <td>58.800000</td>\n",
              "      <td>60.000000</td>\n",
              "      <td>60.300000</td>\n",
              "      <td>60.000000</td>\n",
              "    </tr>\n",
              "    <tr>\n",
              "      <th>25%</th>\n",
              "      <td>13.000000</td>\n",
              "      <td>16.000000</td>\n",
              "      <td>1402.000000</td>\n",
              "      <td>1340.000000</td>\n",
              "      <td>0.000000</td>\n",
              "      <td>0.000000</td>\n",
              "      <td>74.000000</td>\n",
              "      <td>73.000000</td>\n",
              "      <td>73.800000</td>\n",
              "      <td>74.300000</td>\n",
              "      <td>75.200000</td>\n",
              "      <td>72.800000</td>\n",
              "      <td>72.700000</td>\n",
              "      <td>74.000000</td>\n",
              "    </tr>\n",
              "    <tr>\n",
              "      <th>50%</th>\n",
              "      <td>29.000000</td>\n",
              "      <td>38.000000</td>\n",
              "      <td>1501.000000</td>\n",
              "      <td>1463.000000</td>\n",
              "      <td>1.000000</td>\n",
              "      <td>1.000000</td>\n",
              "      <td>79.000000</td>\n",
              "      <td>77.000000</td>\n",
              "      <td>76.800000</td>\n",
              "      <td>77.700000</td>\n",
              "      <td>78.200000</td>\n",
              "      <td>76.000000</td>\n",
              "      <td>77.000000</td>\n",
              "      <td>77.500000</td>\n",
              "    </tr>\n",
              "    <tr>\n",
              "      <th>75%</th>\n",
              "      <td>56.000000</td>\n",
              "      <td>70.000000</td>\n",
              "      <td>1607.000000</td>\n",
              "      <td>1574.250000</td>\n",
              "      <td>2.000000</td>\n",
              "      <td>2.000000</td>\n",
              "      <td>84.000000</td>\n",
              "      <td>83.000000</td>\n",
              "      <td>81.200000</td>\n",
              "      <td>83.600000</td>\n",
              "      <td>83.000000</td>\n",
              "      <td>79.800000</td>\n",
              "      <td>82.300000</td>\n",
              "      <td>81.200000</td>\n",
              "    </tr>\n",
              "    <tr>\n",
              "      <th>max</th>\n",
              "      <td>211.000000</td>\n",
              "      <td>210.000000</td>\n",
              "      <td>2164.000000</td>\n",
              "      <td>2036.000000</td>\n",
              "      <td>14.000000</td>\n",
              "      <td>11.000000</td>\n",
              "      <td>91.000000</td>\n",
              "      <td>91.000000</td>\n",
              "      <td>87.800000</td>\n",
              "      <td>90.300000</td>\n",
              "      <td>88.800000</td>\n",
              "      <td>87.800000</td>\n",
              "      <td>90.300000</td>\n",
              "      <td>88.800000</td>\n",
              "    </tr>\n",
              "  </tbody>\n",
              "</table>\n",
              "</div>\n",
              "      <button class=\"colab-df-convert\" onclick=\"convertToInteractive('df-e638bd2f-0cc5-4dc3-afbf-e58cf80cbfb5')\"\n",
              "              title=\"Convert this dataframe to an interactive table.\"\n",
              "              style=\"display:none;\">\n",
              "        \n",
              "  <svg xmlns=\"http://www.w3.org/2000/svg\" height=\"24px\"viewBox=\"0 0 24 24\"\n",
              "       width=\"24px\">\n",
              "    <path d=\"M0 0h24v24H0V0z\" fill=\"none\"/>\n",
              "    <path d=\"M18.56 5.44l.94 2.06.94-2.06 2.06-.94-2.06-.94-.94-2.06-.94 2.06-2.06.94zm-11 1L8.5 8.5l.94-2.06 2.06-.94-2.06-.94L8.5 2.5l-.94 2.06-2.06.94zm10 10l.94 2.06.94-2.06 2.06-.94-2.06-.94-.94-2.06-.94 2.06-2.06.94z\"/><path d=\"M17.41 7.96l-1.37-1.37c-.4-.4-.92-.59-1.43-.59-.52 0-1.04.2-1.43.59L10.3 9.45l-7.72 7.72c-.78.78-.78 2.05 0 2.83L4 21.41c.39.39.9.59 1.41.59.51 0 1.02-.2 1.41-.59l7.78-7.78 2.81-2.81c.8-.78.8-2.07 0-2.86zM5.41 20L4 18.59l7.72-7.72 1.47 1.35L5.41 20z\"/>\n",
              "  </svg>\n",
              "      </button>\n",
              "      \n",
              "  <style>\n",
              "    .colab-df-container {\n",
              "      display:flex;\n",
              "      flex-wrap:wrap;\n",
              "      gap: 12px;\n",
              "    }\n",
              "\n",
              "    .colab-df-convert {\n",
              "      background-color: #E8F0FE;\n",
              "      border: none;\n",
              "      border-radius: 50%;\n",
              "      cursor: pointer;\n",
              "      display: none;\n",
              "      fill: #1967D2;\n",
              "      height: 32px;\n",
              "      padding: 0 0 0 0;\n",
              "      width: 32px;\n",
              "    }\n",
              "\n",
              "    .colab-df-convert:hover {\n",
              "      background-color: #E2EBFA;\n",
              "      box-shadow: 0px 1px 2px rgba(60, 64, 67, 0.3), 0px 1px 3px 1px rgba(60, 64, 67, 0.15);\n",
              "      fill: #174EA6;\n",
              "    }\n",
              "\n",
              "    [theme=dark] .colab-df-convert {\n",
              "      background-color: #3B4455;\n",
              "      fill: #D2E3FC;\n",
              "    }\n",
              "\n",
              "    [theme=dark] .colab-df-convert:hover {\n",
              "      background-color: #434B5C;\n",
              "      box-shadow: 0px 1px 3px 1px rgba(0, 0, 0, 0.15);\n",
              "      filter: drop-shadow(0px 1px 2px rgba(0, 0, 0, 0.3));\n",
              "      fill: #FFFFFF;\n",
              "    }\n",
              "  </style>\n",
              "\n",
              "      <script>\n",
              "        const buttonEl =\n",
              "          document.querySelector('#df-e638bd2f-0cc5-4dc3-afbf-e58cf80cbfb5 button.colab-df-convert');\n",
              "        buttonEl.style.display =\n",
              "          google.colab.kernel.accessAllowed ? 'block' : 'none';\n",
              "\n",
              "        async function convertToInteractive(key) {\n",
              "          const element = document.querySelector('#df-e638bd2f-0cc5-4dc3-afbf-e58cf80cbfb5');\n",
              "          const dataTable =\n",
              "            await google.colab.kernel.invokeFunction('convertToInteractive',\n",
              "                                                     [key], {});\n",
              "          if (!dataTable) return;\n",
              "\n",
              "          const docLinkHtml = 'Like what you see? Visit the ' +\n",
              "            '<a target=\"_blank\" href=https://colab.research.google.com/notebooks/data_table.ipynb>data table notebook</a>'\n",
              "            + ' to learn more about interactive tables.';\n",
              "          element.innerHTML = '';\n",
              "          dataTable['output_type'] = 'display_data';\n",
              "          await google.colab.output.renderOutput(dataTable, element);\n",
              "          const docLink = document.createElement('div');\n",
              "          docLink.innerHTML = docLinkHtml;\n",
              "          element.appendChild(docLink);\n",
              "        }\n",
              "      </script>\n",
              "    </div>\n",
              "  </div>\n",
              "  "
            ]
          },
          "metadata": {},
          "execution_count": 19
        }
      ],
      "source": [
        "data_wc.describe()"
      ]
    }
  ],
  "metadata": {
    "kernelspec": {
      "display_name": "esilv",
      "language": "python",
      "name": "esilv"
    },
    "language_info": {
      "codemirror_mode": {
        "name": "ipython",
        "version": 3
      },
      "file_extension": ".py",
      "mimetype": "text/x-python",
      "name": "python",
      "nbconvert_exporter": "python",
      "pygments_lexer": "ipython3",
      "version": "3.9.13"
    },
    "colab": {
      "provenance": [],
      "include_colab_link": true
    }
  },
  "nbformat": 4,
  "nbformat_minor": 5
}